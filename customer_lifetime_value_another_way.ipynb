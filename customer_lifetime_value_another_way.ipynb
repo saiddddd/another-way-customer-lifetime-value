{
 "cells": [
  {
   "cell_type": "markdown",
   "metadata": {},
   "source": [
    "# ML vs Statistical Approach for CLV"
   ]
  },
  {
   "cell_type": "code",
   "execution_count": 41,
   "metadata": {
    "ExecuteTime": {
     "end_time": "2021-09-26T16:34:32.694649Z",
     "start_time": "2021-09-26T16:34:32.689626Z"
    }
   },
   "outputs": [],
   "source": [
    "#!pip install git+https://github.com/tensorflow/docs"
   ]
  },
  {
   "cell_type": "code",
   "execution_count": 42,
   "metadata": {
    "ExecuteTime": {
     "end_time": "2021-09-26T16:34:32.726529Z",
     "start_time": "2021-09-26T16:34:32.696608Z"
    }
   },
   "outputs": [],
   "source": [
    "import pandas as pd\n",
    "import numpy as np\n",
    "from datetime import datetime\n",
    "\n",
    "#Statistical LTV\n",
    "from lifetimes import BetaGeoFitter, GammaGammaFitter\n",
    "from lifetimes.utils import calibration_and_holdout_data, summary_data_from_transaction_data\n",
    "\n",
    "#ML Approach to LTV\n",
    "import tensorflow as tf\n",
    "from tensorflow import keras\n",
    "from tensorflow.keras import layers\n",
    "import tensorflow_docs as tfdocs\n",
    "import tensorflow_docs.plots\n",
    "import tensorflow_docs.modeling\n",
    "\n",
    "#Evaluation\n",
    "from sklearn.metrics import r2_score\n",
    "from sklearn.metrics import mean_absolute_error\n",
    "\n",
    "#Plotting\n",
    "import matplotlib.pyplot as plt\n",
    "import seaborn as sns"
   ]
  },
  {
   "cell_type": "markdown",
   "metadata": {},
   "source": [
    "## Data"
   ]
  },
  {
   "cell_type": "code",
   "execution_count": 43,
   "metadata": {
    "ExecuteTime": {
     "end_time": "2021-09-26T16:34:32.741490Z",
     "start_time": "2021-09-26T16:34:32.729520Z"
    }
   },
   "outputs": [],
   "source": [
    "# Make the default figures a bit bigger\n",
    "plt.rcParams['figure.figsize'] = (10,7) "
   ]
  },
  {
   "cell_type": "code",
   "execution_count": 44,
   "metadata": {
    "ExecuteTime": {
     "end_time": "2021-09-26T16:35:38.529477Z",
     "start_time": "2021-09-26T16:34:32.743482Z"
    }
   },
   "outputs": [],
   "source": [
    "data = pd.read_excel('Online Retail.xlsx')\n",
    "data['InvoiceDate'] = pd.to_datetime(data.InvoiceDate, format = '%d/%m/%Y %H:%M')"
   ]
  },
  {
   "cell_type": "code",
   "execution_count": 45,
   "metadata": {
    "ExecuteTime": {
     "end_time": "2021-09-26T16:35:43.050179Z",
     "start_time": "2021-09-26T16:35:38.532473Z"
    }
   },
   "outputs": [],
   "source": [
    "data['date'] = pd.to_datetime(data.InvoiceDate.dt.date)\n",
    "data['time'] = data.InvoiceDate.dt.time\n",
    "data['hour'] = data['time'].apply(lambda x: x.hour)\n",
    "data['weekend'] = data['date'].apply(lambda x: x.weekday() in [5, 6])\n",
    "data['dayofweek'] = data['date'].apply(lambda x: x.dayofweek)"
   ]
  },
  {
   "cell_type": "code",
   "execution_count": 46,
   "metadata": {
    "ExecuteTime": {
     "end_time": "2021-09-26T16:35:43.143959Z",
     "start_time": "2021-09-26T16:35:43.055159Z"
    }
   },
   "outputs": [
    {
     "data": {
      "text/html": [
       "<div>\n",
       "<style scoped>\n",
       "    .dataframe tbody tr th:only-of-type {\n",
       "        vertical-align: middle;\n",
       "    }\n",
       "\n",
       "    .dataframe tbody tr th {\n",
       "        vertical-align: top;\n",
       "    }\n",
       "\n",
       "    .dataframe thead th {\n",
       "        text-align: right;\n",
       "    }\n",
       "</style>\n",
       "<table border=\"1\" class=\"dataframe\">\n",
       "  <thead>\n",
       "    <tr style=\"text-align: right;\">\n",
       "      <th></th>\n",
       "      <th>InvoiceNo</th>\n",
       "      <th>StockCode</th>\n",
       "      <th>Description</th>\n",
       "      <th>Quantity</th>\n",
       "      <th>InvoiceDate</th>\n",
       "      <th>UnitPrice</th>\n",
       "      <th>CustomerID</th>\n",
       "      <th>Country</th>\n",
       "      <th>date</th>\n",
       "      <th>time</th>\n",
       "      <th>hour</th>\n",
       "      <th>weekend</th>\n",
       "      <th>dayofweek</th>\n",
       "    </tr>\n",
       "  </thead>\n",
       "  <tbody>\n",
       "    <tr>\n",
       "      <th>35888</th>\n",
       "      <td>539437</td>\n",
       "      <td>22439</td>\n",
       "      <td>6 ROCKET BALLOONS</td>\n",
       "      <td>1</td>\n",
       "      <td>2010-12-17 14:54:00</td>\n",
       "      <td>1.28</td>\n",
       "      <td>NaN</td>\n",
       "      <td>United Kingdom</td>\n",
       "      <td>2010-12-17</td>\n",
       "      <td>14:54:00</td>\n",
       "      <td>14</td>\n",
       "      <td>False</td>\n",
       "      <td>4</td>\n",
       "    </tr>\n",
       "    <tr>\n",
       "      <th>338890</th>\n",
       "      <td>566571</td>\n",
       "      <td>22191</td>\n",
       "      <td>IVORY DINER WALL CLOCK</td>\n",
       "      <td>2</td>\n",
       "      <td>2011-09-13 12:49:00</td>\n",
       "      <td>8.50</td>\n",
       "      <td>17037.0</td>\n",
       "      <td>United Kingdom</td>\n",
       "      <td>2011-09-13</td>\n",
       "      <td>12:49:00</td>\n",
       "      <td>12</td>\n",
       "      <td>False</td>\n",
       "      <td>1</td>\n",
       "    </tr>\n",
       "    <tr>\n",
       "      <th>224995</th>\n",
       "      <td>556629</td>\n",
       "      <td>23100</td>\n",
       "      <td>SILVER BELLS TABLE DECORATION</td>\n",
       "      <td>12</td>\n",
       "      <td>2011-06-13 14:55:00</td>\n",
       "      <td>1.25</td>\n",
       "      <td>14841.0</td>\n",
       "      <td>United Kingdom</td>\n",
       "      <td>2011-06-13</td>\n",
       "      <td>14:55:00</td>\n",
       "      <td>14</td>\n",
       "      <td>False</td>\n",
       "      <td>0</td>\n",
       "    </tr>\n",
       "    <tr>\n",
       "      <th>439438</th>\n",
       "      <td>574474</td>\n",
       "      <td>23504</td>\n",
       "      <td>PLAYING CARDS JUBILEE UNION JACK</td>\n",
       "      <td>1</td>\n",
       "      <td>2011-11-04 12:05:00</td>\n",
       "      <td>1.25</td>\n",
       "      <td>17979.0</td>\n",
       "      <td>United Kingdom</td>\n",
       "      <td>2011-11-04</td>\n",
       "      <td>12:05:00</td>\n",
       "      <td>12</td>\n",
       "      <td>False</td>\n",
       "      <td>4</td>\n",
       "    </tr>\n",
       "    <tr>\n",
       "      <th>23595</th>\n",
       "      <td>538207</td>\n",
       "      <td>21174</td>\n",
       "      <td>POTTERING IN THE SHED METAL SIGN</td>\n",
       "      <td>1</td>\n",
       "      <td>2010-12-10 11:33:00</td>\n",
       "      <td>1.95</td>\n",
       "      <td>12748.0</td>\n",
       "      <td>United Kingdom</td>\n",
       "      <td>2010-12-10</td>\n",
       "      <td>11:33:00</td>\n",
       "      <td>11</td>\n",
       "      <td>False</td>\n",
       "      <td>4</td>\n",
       "    </tr>\n",
       "  </tbody>\n",
       "</table>\n",
       "</div>"
      ],
      "text/plain": [
       "       InvoiceNo StockCode                       Description  Quantity  \\\n",
       "35888     539437     22439                6 ROCKET BALLOONS          1   \n",
       "338890    566571     22191            IVORY DINER WALL CLOCK         2   \n",
       "224995    556629     23100     SILVER BELLS TABLE DECORATION        12   \n",
       "439438    574474     23504  PLAYING CARDS JUBILEE UNION JACK         1   \n",
       "23595     538207     21174  POTTERING IN THE SHED METAL SIGN         1   \n",
       "\n",
       "               InvoiceDate  UnitPrice  CustomerID         Country       date  \\\n",
       "35888  2010-12-17 14:54:00       1.28         NaN  United Kingdom 2010-12-17   \n",
       "338890 2011-09-13 12:49:00       8.50     17037.0  United Kingdom 2011-09-13   \n",
       "224995 2011-06-13 14:55:00       1.25     14841.0  United Kingdom 2011-06-13   \n",
       "439438 2011-11-04 12:05:00       1.25     17979.0  United Kingdom 2011-11-04   \n",
       "23595  2010-12-10 11:33:00       1.95     12748.0  United Kingdom 2010-12-10   \n",
       "\n",
       "            time  hour  weekend  dayofweek  \n",
       "35888   14:54:00    14    False          4  \n",
       "338890  12:49:00    12    False          1  \n",
       "224995  14:55:00    14    False          0  \n",
       "439438  12:05:00    12    False          4  \n",
       "23595   11:33:00    11    False          4  "
      ]
     },
     "execution_count": 46,
     "metadata": {},
     "output_type": "execute_result"
    }
   ],
   "source": [
    "data.sample(5)"
   ]
  },
  {
   "cell_type": "code",
   "execution_count": 47,
   "metadata": {
    "ExecuteTime": {
     "end_time": "2021-09-26T16:35:43.204633Z",
     "start_time": "2021-09-26T16:35:43.144917Z"
    }
   },
   "outputs": [
    {
     "data": {
      "text/html": [
       "<div>\n",
       "<style scoped>\n",
       "    .dataframe tbody tr th:only-of-type {\n",
       "        vertical-align: middle;\n",
       "    }\n",
       "\n",
       "    .dataframe tbody tr th {\n",
       "        vertical-align: top;\n",
       "    }\n",
       "\n",
       "    .dataframe thead th {\n",
       "        text-align: right;\n",
       "    }\n",
       "</style>\n",
       "<table border=\"1\" class=\"dataframe\">\n",
       "  <thead>\n",
       "    <tr style=\"text-align: right;\">\n",
       "      <th></th>\n",
       "      <th>InvoiceNo</th>\n",
       "      <th>StockCode</th>\n",
       "      <th>Description</th>\n",
       "      <th>Quantity</th>\n",
       "      <th>InvoiceDate</th>\n",
       "      <th>UnitPrice</th>\n",
       "      <th>CustomerID</th>\n",
       "      <th>Country</th>\n",
       "      <th>date</th>\n",
       "      <th>time</th>\n",
       "      <th>hour</th>\n",
       "      <th>weekend</th>\n",
       "      <th>dayofweek</th>\n",
       "    </tr>\n",
       "  </thead>\n",
       "  <tbody>\n",
       "    <tr>\n",
       "      <th>401049</th>\n",
       "      <td>571413</td>\n",
       "      <td>22029</td>\n",
       "      <td>SPACEBOY BIRTHDAY CARD</td>\n",
       "      <td>12</td>\n",
       "      <td>2011-10-17 12:33:00</td>\n",
       "      <td>0.42</td>\n",
       "      <td>13923.0</td>\n",
       "      <td>United Kingdom</td>\n",
       "      <td>2011-10-17</td>\n",
       "      <td>12:33:00</td>\n",
       "      <td>12</td>\n",
       "      <td>False</td>\n",
       "      <td>0</td>\n",
       "    </tr>\n",
       "    <tr>\n",
       "      <th>401050</th>\n",
       "      <td>571413</td>\n",
       "      <td>22024</td>\n",
       "      <td>RAINY LADIES BIRTHDAY CARD</td>\n",
       "      <td>12</td>\n",
       "      <td>2011-10-17 12:33:00</td>\n",
       "      <td>0.42</td>\n",
       "      <td>13923.0</td>\n",
       "      <td>United Kingdom</td>\n",
       "      <td>2011-10-17</td>\n",
       "      <td>12:33:00</td>\n",
       "      <td>12</td>\n",
       "      <td>False</td>\n",
       "      <td>0</td>\n",
       "    </tr>\n",
       "    <tr>\n",
       "      <th>401051</th>\n",
       "      <td>571413</td>\n",
       "      <td>22809</td>\n",
       "      <td>SET OF 6 T-LIGHTS SANTA</td>\n",
       "      <td>12</td>\n",
       "      <td>2011-10-17 12:33:00</td>\n",
       "      <td>2.95</td>\n",
       "      <td>13923.0</td>\n",
       "      <td>United Kingdom</td>\n",
       "      <td>2011-10-17</td>\n",
       "      <td>12:33:00</td>\n",
       "      <td>12</td>\n",
       "      <td>False</td>\n",
       "      <td>0</td>\n",
       "    </tr>\n",
       "    <tr>\n",
       "      <th>401052</th>\n",
       "      <td>571413</td>\n",
       "      <td>22025</td>\n",
       "      <td>RING OF ROSES BIRTHDAY CARD</td>\n",
       "      <td>12</td>\n",
       "      <td>2011-10-17 12:33:00</td>\n",
       "      <td>0.42</td>\n",
       "      <td>13923.0</td>\n",
       "      <td>United Kingdom</td>\n",
       "      <td>2011-10-17</td>\n",
       "      <td>12:33:00</td>\n",
       "      <td>12</td>\n",
       "      <td>False</td>\n",
       "      <td>0</td>\n",
       "    </tr>\n",
       "    <tr>\n",
       "      <th>401053</th>\n",
       "      <td>571413</td>\n",
       "      <td>21507</td>\n",
       "      <td>ELEPHANT BIRTHDAY CARD</td>\n",
       "      <td>12</td>\n",
       "      <td>2011-10-17 12:33:00</td>\n",
       "      <td>0.42</td>\n",
       "      <td>13923.0</td>\n",
       "      <td>United Kingdom</td>\n",
       "      <td>2011-10-17</td>\n",
       "      <td>12:33:00</td>\n",
       "      <td>12</td>\n",
       "      <td>False</td>\n",
       "      <td>0</td>\n",
       "    </tr>\n",
       "    <tr>\n",
       "      <th>401054</th>\n",
       "      <td>571413</td>\n",
       "      <td>22816</td>\n",
       "      <td>CARD MOTORBIKE SANTA</td>\n",
       "      <td>12</td>\n",
       "      <td>2011-10-17 12:33:00</td>\n",
       "      <td>0.42</td>\n",
       "      <td>13923.0</td>\n",
       "      <td>United Kingdom</td>\n",
       "      <td>2011-10-17</td>\n",
       "      <td>12:33:00</td>\n",
       "      <td>12</td>\n",
       "      <td>False</td>\n",
       "      <td>0</td>\n",
       "    </tr>\n",
       "    <tr>\n",
       "      <th>401055</th>\n",
       "      <td>571413</td>\n",
       "      <td>23382</td>\n",
       "      <td>BOX OF 6 CHRISTMAS CAKE DECORATIONS</td>\n",
       "      <td>4</td>\n",
       "      <td>2011-10-17 12:33:00</td>\n",
       "      <td>3.75</td>\n",
       "      <td>13923.0</td>\n",
       "      <td>United Kingdom</td>\n",
       "      <td>2011-10-17</td>\n",
       "      <td>12:33:00</td>\n",
       "      <td>12</td>\n",
       "      <td>False</td>\n",
       "      <td>0</td>\n",
       "    </tr>\n",
       "    <tr>\n",
       "      <th>401056</th>\n",
       "      <td>571413</td>\n",
       "      <td>21259</td>\n",
       "      <td>VICTORIAN SEWING BOX SMALL</td>\n",
       "      <td>2</td>\n",
       "      <td>2011-10-17 12:33:00</td>\n",
       "      <td>5.95</td>\n",
       "      <td>13923.0</td>\n",
       "      <td>United Kingdom</td>\n",
       "      <td>2011-10-17</td>\n",
       "      <td>12:33:00</td>\n",
       "      <td>12</td>\n",
       "      <td>False</td>\n",
       "      <td>0</td>\n",
       "    </tr>\n",
       "    <tr>\n",
       "      <th>401057</th>\n",
       "      <td>571413</td>\n",
       "      <td>23132</td>\n",
       "      <td>SMALL IVORY HEART WALL ORGANISER</td>\n",
       "      <td>3</td>\n",
       "      <td>2011-10-17 12:33:00</td>\n",
       "      <td>5.75</td>\n",
       "      <td>13923.0</td>\n",
       "      <td>United Kingdom</td>\n",
       "      <td>2011-10-17</td>\n",
       "      <td>12:33:00</td>\n",
       "      <td>12</td>\n",
       "      <td>False</td>\n",
       "      <td>0</td>\n",
       "    </tr>\n",
       "    <tr>\n",
       "      <th>401058</th>\n",
       "      <td>571413</td>\n",
       "      <td>23133</td>\n",
       "      <td>LARGE IVORY HEART WALL ORGANISER</td>\n",
       "      <td>2</td>\n",
       "      <td>2011-10-17 12:33:00</td>\n",
       "      <td>8.25</td>\n",
       "      <td>13923.0</td>\n",
       "      <td>United Kingdom</td>\n",
       "      <td>2011-10-17</td>\n",
       "      <td>12:33:00</td>\n",
       "      <td>12</td>\n",
       "      <td>False</td>\n",
       "      <td>0</td>\n",
       "    </tr>\n",
       "    <tr>\n",
       "      <th>401059</th>\n",
       "      <td>571413</td>\n",
       "      <td>22170</td>\n",
       "      <td>PICTURE FRAME WOOD TRIPLE PORTRAIT</td>\n",
       "      <td>4</td>\n",
       "      <td>2011-10-17 12:33:00</td>\n",
       "      <td>6.75</td>\n",
       "      <td>13923.0</td>\n",
       "      <td>United Kingdom</td>\n",
       "      <td>2011-10-17</td>\n",
       "      <td>12:33:00</td>\n",
       "      <td>12</td>\n",
       "      <td>False</td>\n",
       "      <td>0</td>\n",
       "    </tr>\n",
       "    <tr>\n",
       "      <th>401060</th>\n",
       "      <td>571413</td>\n",
       "      <td>22169</td>\n",
       "      <td>FAMILY ALBUM WHITE PICTURE FRAME</td>\n",
       "      <td>2</td>\n",
       "      <td>2011-10-17 12:33:00</td>\n",
       "      <td>8.50</td>\n",
       "      <td>13923.0</td>\n",
       "      <td>United Kingdom</td>\n",
       "      <td>2011-10-17</td>\n",
       "      <td>12:33:00</td>\n",
       "      <td>12</td>\n",
       "      <td>False</td>\n",
       "      <td>0</td>\n",
       "    </tr>\n",
       "    <tr>\n",
       "      <th>401061</th>\n",
       "      <td>571413</td>\n",
       "      <td>22413</td>\n",
       "      <td>METAL SIGN TAKE IT OR LEAVE IT</td>\n",
       "      <td>12</td>\n",
       "      <td>2011-10-17 12:33:00</td>\n",
       "      <td>2.95</td>\n",
       "      <td>13923.0</td>\n",
       "      <td>United Kingdom</td>\n",
       "      <td>2011-10-17</td>\n",
       "      <td>12:33:00</td>\n",
       "      <td>12</td>\n",
       "      <td>False</td>\n",
       "      <td>0</td>\n",
       "    </tr>\n",
       "    <tr>\n",
       "      <th>401062</th>\n",
       "      <td>571413</td>\n",
       "      <td>22672</td>\n",
       "      <td>FRENCH BATHROOM SIGN BLUE METAL</td>\n",
       "      <td>12</td>\n",
       "      <td>2011-10-17 12:33:00</td>\n",
       "      <td>1.65</td>\n",
       "      <td>13923.0</td>\n",
       "      <td>United Kingdom</td>\n",
       "      <td>2011-10-17</td>\n",
       "      <td>12:33:00</td>\n",
       "      <td>12</td>\n",
       "      <td>False</td>\n",
       "      <td>0</td>\n",
       "    </tr>\n",
       "    <tr>\n",
       "      <th>401063</th>\n",
       "      <td>571413</td>\n",
       "      <td>22674</td>\n",
       "      <td>FRENCH TOILET SIGN BLUE METAL</td>\n",
       "      <td>12</td>\n",
       "      <td>2011-10-17 12:33:00</td>\n",
       "      <td>1.25</td>\n",
       "      <td>13923.0</td>\n",
       "      <td>United Kingdom</td>\n",
       "      <td>2011-10-17</td>\n",
       "      <td>12:33:00</td>\n",
       "      <td>12</td>\n",
       "      <td>False</td>\n",
       "      <td>0</td>\n",
       "    </tr>\n",
       "    <tr>\n",
       "      <th>401064</th>\n",
       "      <td>571413</td>\n",
       "      <td>22675</td>\n",
       "      <td>FRENCH KITCHEN SIGN BLUE METAL</td>\n",
       "      <td>12</td>\n",
       "      <td>2011-10-17 12:33:00</td>\n",
       "      <td>1.25</td>\n",
       "      <td>13923.0</td>\n",
       "      <td>United Kingdom</td>\n",
       "      <td>2011-10-17</td>\n",
       "      <td>12:33:00</td>\n",
       "      <td>12</td>\n",
       "      <td>False</td>\n",
       "      <td>0</td>\n",
       "    </tr>\n",
       "    <tr>\n",
       "      <th>401065</th>\n",
       "      <td>571413</td>\n",
       "      <td>22115</td>\n",
       "      <td>METAL SIGN EMPIRE TEA</td>\n",
       "      <td>12</td>\n",
       "      <td>2011-10-17 12:33:00</td>\n",
       "      <td>0.79</td>\n",
       "      <td>13923.0</td>\n",
       "      <td>United Kingdom</td>\n",
       "      <td>2011-10-17</td>\n",
       "      <td>12:33:00</td>\n",
       "      <td>12</td>\n",
       "      <td>False</td>\n",
       "      <td>0</td>\n",
       "    </tr>\n",
       "    <tr>\n",
       "      <th>401066</th>\n",
       "      <td>571413</td>\n",
       "      <td>21175</td>\n",
       "      <td>GIN + TONIC DIET METAL SIGN</td>\n",
       "      <td>12</td>\n",
       "      <td>2011-10-17 12:33:00</td>\n",
       "      <td>2.55</td>\n",
       "      <td>13923.0</td>\n",
       "      <td>United Kingdom</td>\n",
       "      <td>2011-10-17</td>\n",
       "      <td>12:33:00</td>\n",
       "      <td>12</td>\n",
       "      <td>False</td>\n",
       "      <td>0</td>\n",
       "    </tr>\n",
       "    <tr>\n",
       "      <th>401067</th>\n",
       "      <td>571413</td>\n",
       "      <td>22117</td>\n",
       "      <td>METAL SIGN HER DINNER IS SERVED</td>\n",
       "      <td>12</td>\n",
       "      <td>2011-10-17 12:33:00</td>\n",
       "      <td>2.95</td>\n",
       "      <td>13923.0</td>\n",
       "      <td>United Kingdom</td>\n",
       "      <td>2011-10-17</td>\n",
       "      <td>12:33:00</td>\n",
       "      <td>12</td>\n",
       "      <td>False</td>\n",
       "      <td>0</td>\n",
       "    </tr>\n",
       "    <tr>\n",
       "      <th>401068</th>\n",
       "      <td>571413</td>\n",
       "      <td>21903</td>\n",
       "      <td>MAN FLU METAL SIGN</td>\n",
       "      <td>12</td>\n",
       "      <td>2011-10-17 12:33:00</td>\n",
       "      <td>2.10</td>\n",
       "      <td>13923.0</td>\n",
       "      <td>United Kingdom</td>\n",
       "      <td>2011-10-17</td>\n",
       "      <td>12:33:00</td>\n",
       "      <td>12</td>\n",
       "      <td>False</td>\n",
       "      <td>0</td>\n",
       "    </tr>\n",
       "  </tbody>\n",
       "</table>\n",
       "</div>"
      ],
      "text/plain": [
       "       InvoiceNo StockCode                          Description  Quantity  \\\n",
       "401049    571413     22029               SPACEBOY BIRTHDAY CARD        12   \n",
       "401050    571413     22024           RAINY LADIES BIRTHDAY CARD        12   \n",
       "401051    571413     22809              SET OF 6 T-LIGHTS SANTA        12   \n",
       "401052    571413     22025          RING OF ROSES BIRTHDAY CARD        12   \n",
       "401053    571413     21507              ELEPHANT BIRTHDAY CARD         12   \n",
       "401054    571413     22816                 CARD MOTORBIKE SANTA        12   \n",
       "401055    571413     23382  BOX OF 6 CHRISTMAS CAKE DECORATIONS         4   \n",
       "401056    571413     21259          VICTORIAN SEWING BOX SMALL          2   \n",
       "401057    571413     23132     SMALL IVORY HEART WALL ORGANISER         3   \n",
       "401058    571413     23133     LARGE IVORY HEART WALL ORGANISER         2   \n",
       "401059    571413     22170   PICTURE FRAME WOOD TRIPLE PORTRAIT         4   \n",
       "401060    571413     22169     FAMILY ALBUM WHITE PICTURE FRAME         2   \n",
       "401061    571413     22413      METAL SIGN TAKE IT OR LEAVE IT         12   \n",
       "401062    571413     22672      FRENCH BATHROOM SIGN BLUE METAL        12   \n",
       "401063    571413     22674        FRENCH TOILET SIGN BLUE METAL        12   \n",
       "401064    571413     22675       FRENCH KITCHEN SIGN BLUE METAL        12   \n",
       "401065    571413     22115                METAL SIGN EMPIRE TEA        12   \n",
       "401066    571413     21175          GIN + TONIC DIET METAL SIGN        12   \n",
       "401067    571413     22117     METAL SIGN HER DINNER IS SERVED         12   \n",
       "401068    571413     21903                   MAN FLU METAL SIGN        12   \n",
       "\n",
       "               InvoiceDate  UnitPrice  CustomerID         Country       date  \\\n",
       "401049 2011-10-17 12:33:00       0.42     13923.0  United Kingdom 2011-10-17   \n",
       "401050 2011-10-17 12:33:00       0.42     13923.0  United Kingdom 2011-10-17   \n",
       "401051 2011-10-17 12:33:00       2.95     13923.0  United Kingdom 2011-10-17   \n",
       "401052 2011-10-17 12:33:00       0.42     13923.0  United Kingdom 2011-10-17   \n",
       "401053 2011-10-17 12:33:00       0.42     13923.0  United Kingdom 2011-10-17   \n",
       "401054 2011-10-17 12:33:00       0.42     13923.0  United Kingdom 2011-10-17   \n",
       "401055 2011-10-17 12:33:00       3.75     13923.0  United Kingdom 2011-10-17   \n",
       "401056 2011-10-17 12:33:00       5.95     13923.0  United Kingdom 2011-10-17   \n",
       "401057 2011-10-17 12:33:00       5.75     13923.0  United Kingdom 2011-10-17   \n",
       "401058 2011-10-17 12:33:00       8.25     13923.0  United Kingdom 2011-10-17   \n",
       "401059 2011-10-17 12:33:00       6.75     13923.0  United Kingdom 2011-10-17   \n",
       "401060 2011-10-17 12:33:00       8.50     13923.0  United Kingdom 2011-10-17   \n",
       "401061 2011-10-17 12:33:00       2.95     13923.0  United Kingdom 2011-10-17   \n",
       "401062 2011-10-17 12:33:00       1.65     13923.0  United Kingdom 2011-10-17   \n",
       "401063 2011-10-17 12:33:00       1.25     13923.0  United Kingdom 2011-10-17   \n",
       "401064 2011-10-17 12:33:00       1.25     13923.0  United Kingdom 2011-10-17   \n",
       "401065 2011-10-17 12:33:00       0.79     13923.0  United Kingdom 2011-10-17   \n",
       "401066 2011-10-17 12:33:00       2.55     13923.0  United Kingdom 2011-10-17   \n",
       "401067 2011-10-17 12:33:00       2.95     13923.0  United Kingdom 2011-10-17   \n",
       "401068 2011-10-17 12:33:00       2.10     13923.0  United Kingdom 2011-10-17   \n",
       "\n",
       "            time  hour  weekend  dayofweek  \n",
       "401049  12:33:00    12    False          0  \n",
       "401050  12:33:00    12    False          0  \n",
       "401051  12:33:00    12    False          0  \n",
       "401052  12:33:00    12    False          0  \n",
       "401053  12:33:00    12    False          0  \n",
       "401054  12:33:00    12    False          0  \n",
       "401055  12:33:00    12    False          0  \n",
       "401056  12:33:00    12    False          0  \n",
       "401057  12:33:00    12    False          0  \n",
       "401058  12:33:00    12    False          0  \n",
       "401059  12:33:00    12    False          0  \n",
       "401060  12:33:00    12    False          0  \n",
       "401061  12:33:00    12    False          0  \n",
       "401062  12:33:00    12    False          0  \n",
       "401063  12:33:00    12    False          0  \n",
       "401064  12:33:00    12    False          0  \n",
       "401065  12:33:00    12    False          0  \n",
       "401066  12:33:00    12    False          0  \n",
       "401067  12:33:00    12    False          0  \n",
       "401068  12:33:00    12    False          0  "
      ]
     },
     "execution_count": 47,
     "metadata": {},
     "output_type": "execute_result"
    }
   ],
   "source": [
    "data[data['InvoiceNo'] == 571413]"
   ]
  },
  {
   "cell_type": "code",
   "execution_count": 48,
   "metadata": {
    "ExecuteTime": {
     "end_time": "2021-09-26T16:35:43.419092Z",
     "start_time": "2021-09-26T16:35:43.207625Z"
    }
   },
   "outputs": [
    {
     "name": "stdout",
     "output_type": "stream",
     "text": [
      "373 days 00:00:00\n"
     ]
    },
    {
     "data": {
      "image/png": "[encoded data removed]",
      "text/plain": [
       "<Figure size 720x504 with 1 Axes>"
      ]
     },
     "metadata": {
      "needs_background": "light"
     },
     "output_type": "display_data"
    }
   ],
   "source": [
    "data.groupby('date')['Quantity'].sum().plot()\n",
    "print(data['date'].max() - data['date'].min())"
   ]
  },
  {
   "cell_type": "markdown",
   "metadata": {},
   "source": [
    "So, I have around 1 year of data. Because the ML approach requires time periods for feature creation, training targets, and validation targets, I'll split it into the following segments:\n",
    "1. Training Features Period - from 2011-01-01 until 2011-06-11\n",
    "2. Training Target Period - from 2011-06-12 until 2011-09-09\n",
    "3. Testing Features Period - from 2011-04-02 until 2011-09-10\n",
    "4. Testing Target Period - from 2011-09-11 until 2011-12-09"
   ]
  },
  {
   "cell_type": "code",
   "execution_count": 49,
   "metadata": {
    "ExecuteTime": {
     "end_time": "2021-09-26T16:35:43.465933Z",
     "start_time": "2021-09-26T16:35:43.421053Z"
    }
   },
   "outputs": [
    {
     "name": "stdout",
     "output_type": "stream",
     "text": [
      "Total Number of Purchases: 541909\n",
      "Total Number of transactions: 25900\n",
      "Total Unique Days: 305\n",
      "Total Unique Customers: 4372\n",
      "We are predicting 89 days\n"
     ]
    }
   ],
   "source": [
    "#Dataset info\n",
    "print(f'Total Number of Purchases: {data.shape[0]}')\n",
    "print(f'Total Number of transactions: {data.InvoiceNo.nunique()}')\n",
    "print(f'Total Unique Days: {data.date.nunique()}')\n",
    "print(f'Total Unique Customers: {data.CustomerID.nunique()}')\n",
    "print(f\"We are predicting {(data['date'].max() - datetime(2011, 9, 11)).days} days\")"
   ]
  },
  {
   "cell_type": "markdown",
   "metadata": {},
   "source": [
    "## Baseline: BG/NBD + Gamma-Gamma model\n",
    "\n",
    "BG/NDB and Gamma-Gamma models are statistical models that model the purchasing behaviour (transactions and the average order value) by fitting different types of distributions. This type of modelling requires the data on transaction level, so let's first aggregate the dataset by the invoice. I'll be aggregating the transactional revenue which is simply calculated as the quantity times the item price."
   ]
  },
  {
   "cell_type": "markdown",
   "metadata": {},
   "source": [
    "### Data Prep"
   ]
  },
  {
   "cell_type": "code",
   "execution_count": 50,
   "metadata": {
    "ExecuteTime": {
     "end_time": "2021-09-26T16:35:43.635358Z",
     "start_time": "2021-09-26T16:35:43.466932Z"
    }
   },
   "outputs": [],
   "source": [
    "#Get revenue column\n",
    "data['Revenue'] = data['Quantity'] * data['UnitPrice']\n",
    "\n",
    "#Context data for the revenue (date & customerID)\n",
    "id_lookup = data[['CustomerID', 'InvoiceNo', 'date']].drop_duplicates()\n",
    "id_lookup.index = id_lookup['InvoiceNo']\n",
    "id_lookup = id_lookup.drop('InvoiceNo', axis=1)\n",
    "\n",
    "transactions_data = pd.DataFrame(data.groupby('InvoiceNo')['Revenue'].sum()).join(id_lookup)"
   ]
  },
  {
   "cell_type": "code",
   "execution_count": 51,
   "metadata": {
    "ExecuteTime": {
     "end_time": "2021-09-26T16:35:43.650308Z",
     "start_time": "2021-09-26T16:35:43.639308Z"
    }
   },
   "outputs": [
    {
     "data": {
      "text/html": [
       "<div>\n",
       "<style scoped>\n",
       "    .dataframe tbody tr th:only-of-type {\n",
       "        vertical-align: middle;\n",
       "    }\n",
       "\n",
       "    .dataframe tbody tr th {\n",
       "        vertical-align: top;\n",
       "    }\n",
       "\n",
       "    .dataframe thead th {\n",
       "        text-align: right;\n",
       "    }\n",
       "</style>\n",
       "<table border=\"1\" class=\"dataframe\">\n",
       "  <thead>\n",
       "    <tr style=\"text-align: right;\">\n",
       "      <th></th>\n",
       "      <th>Revenue</th>\n",
       "      <th>CustomerID</th>\n",
       "      <th>date</th>\n",
       "    </tr>\n",
       "    <tr>\n",
       "      <th>InvoiceNo</th>\n",
       "      <th></th>\n",
       "      <th></th>\n",
       "      <th></th>\n",
       "    </tr>\n",
       "  </thead>\n",
       "  <tbody>\n",
       "    <tr>\n",
       "      <th>536365</th>\n",
       "      <td>139.12</td>\n",
       "      <td>17850.0</td>\n",
       "      <td>2010-12-01</td>\n",
       "    </tr>\n",
       "    <tr>\n",
       "      <th>536366</th>\n",
       "      <td>22.20</td>\n",
       "      <td>17850.0</td>\n",
       "      <td>2010-12-01</td>\n",
       "    </tr>\n",
       "    <tr>\n",
       "      <th>536367</th>\n",
       "      <td>278.73</td>\n",
       "      <td>13047.0</td>\n",
       "      <td>2010-12-01</td>\n",
       "    </tr>\n",
       "    <tr>\n",
       "      <th>536368</th>\n",
       "      <td>70.05</td>\n",
       "      <td>13047.0</td>\n",
       "      <td>2010-12-01</td>\n",
       "    </tr>\n",
       "    <tr>\n",
       "      <th>536369</th>\n",
       "      <td>17.85</td>\n",
       "      <td>13047.0</td>\n",
       "      <td>2010-12-01</td>\n",
       "    </tr>\n",
       "  </tbody>\n",
       "</table>\n",
       "</div>"
      ],
      "text/plain": [
       "           Revenue  CustomerID       date\n",
       "InvoiceNo                                \n",
       "536365      139.12     17850.0 2010-12-01\n",
       "536366       22.20     17850.0 2010-12-01\n",
       "536367      278.73     13047.0 2010-12-01\n",
       "536368       70.05     13047.0 2010-12-01\n",
       "536369       17.85     13047.0 2010-12-01"
      ]
     },
     "execution_count": 51,
     "metadata": {},
     "output_type": "execute_result"
    }
   ],
   "source": [
    "transactions_data.head()"
   ]
  },
  {
   "cell_type": "code",
   "execution_count": 52,
   "metadata": {
    "ExecuteTime": {
     "end_time": "2021-09-26T16:35:43.666265Z",
     "start_time": "2021-09-26T16:35:43.652302Z"
    }
   },
   "outputs": [],
   "source": [
    "\n",
    "# #predict revenue of only those that have purchased in the specified period for comparisonrelevant_ids = transactions_data.loc[(pd.to_datetime(transactions_data.date) >='2011-03-09') &(pd.to_datetime(transactions_data.date) <= '2011-09-10'), 'CustomerID'].unique()\n",
    "# relevant_transations = transactions_data.loc[transactions_data['CustomerID'].isin(relevant_ids), :]"
   ]
  },
  {
   "cell_type": "markdown",
   "metadata": {},
   "source": [
    "`lifetimes` package has a utility function to split the data and aggregate the features into RFM format. So here, I'm going to use it to save some time, but if the data is large, it makes sense to do this yourselve."
   ]
  },
  {
   "cell_type": "code",
   "execution_count": 53,
   "metadata": {
    "ExecuteTime": {
     "end_time": "2021-09-26T16:35:44.291070Z",
     "start_time": "2021-09-26T16:35:43.668226Z"
    }
   },
   "outputs": [],
   "source": [
    "#Spit into train - test\n",
    "rfm_train_test = calibration_and_holdout_data(transactions_data, 'CustomerID', 'date',\n",
    "                                        calibration_period_end='2011-09-10',\n",
    "                                        monetary_value_col = 'Revenue')   \n",
    "\n",
    "#Selecting only customers with positive value in the calibration period (otherwise Gamma-Gamma model doesn't work)\n",
    "rfm_train_test = rfm_train_test.loc[rfm_train_test['monetary_value_cal'] > 0, :]"
   ]
  },
  {
   "cell_type": "code",
   "execution_count": 54,
   "metadata": {
    "ExecuteTime": {
     "end_time": "2021-09-26T16:35:44.306208Z",
     "start_time": "2021-09-26T16:35:44.293269Z"
    }
   },
   "outputs": [
    {
     "name": "stdout",
     "output_type": "stream",
     "text": [
      "(1965, 7)\n"
     ]
    },
    {
     "data": {
      "text/html": [
       "<div>\n",
       "<style scoped>\n",
       "    .dataframe tbody tr th:only-of-type {\n",
       "        vertical-align: middle;\n",
       "    }\n",
       "\n",
       "    .dataframe tbody tr th {\n",
       "        vertical-align: top;\n",
       "    }\n",
       "\n",
       "    .dataframe thead th {\n",
       "        text-align: right;\n",
       "    }\n",
       "</style>\n",
       "<table border=\"1\" class=\"dataframe\">\n",
       "  <thead>\n",
       "    <tr style=\"text-align: right;\">\n",
       "      <th></th>\n",
       "      <th>frequency_cal</th>\n",
       "      <th>recency_cal</th>\n",
       "      <th>T_cal</th>\n",
       "      <th>monetary_value_cal</th>\n",
       "      <th>frequency_holdout</th>\n",
       "      <th>monetary_value_holdout</th>\n",
       "      <th>duration_holdout</th>\n",
       "    </tr>\n",
       "    <tr>\n",
       "      <th>CustomerID</th>\n",
       "      <th></th>\n",
       "      <th></th>\n",
       "      <th></th>\n",
       "      <th></th>\n",
       "      <th></th>\n",
       "      <th></th>\n",
       "      <th></th>\n",
       "    </tr>\n",
       "  </thead>\n",
       "  <tbody>\n",
       "    <tr>\n",
       "      <th>12347.0</th>\n",
       "      <td>4.0</td>\n",
       "      <td>238.0</td>\n",
       "      <td>277.0</td>\n",
       "      <td>519.7675</td>\n",
       "      <td>2.0</td>\n",
       "      <td>759.570000</td>\n",
       "      <td>90.0</td>\n",
       "    </tr>\n",
       "    <tr>\n",
       "      <th>12348.0</th>\n",
       "      <td>2.0</td>\n",
       "      <td>110.0</td>\n",
       "      <td>268.0</td>\n",
       "      <td>297.2200</td>\n",
       "      <td>1.0</td>\n",
       "      <td>310.000000</td>\n",
       "      <td>90.0</td>\n",
       "    </tr>\n",
       "    <tr>\n",
       "      <th>12352.0</th>\n",
       "      <td>3.0</td>\n",
       "      <td>34.0</td>\n",
       "      <td>206.0</td>\n",
       "      <td>101.5600</td>\n",
       "      <td>3.0</td>\n",
       "      <td>314.743333</td>\n",
       "      <td>90.0</td>\n",
       "    </tr>\n",
       "    <tr>\n",
       "      <th>12356.0</th>\n",
       "      <td>1.0</td>\n",
       "      <td>80.0</td>\n",
       "      <td>235.0</td>\n",
       "      <td>481.4600</td>\n",
       "      <td>1.0</td>\n",
       "      <td>58.350000</td>\n",
       "      <td>90.0</td>\n",
       "    </tr>\n",
       "    <tr>\n",
       "      <th>12359.0</th>\n",
       "      <td>3.0</td>\n",
       "      <td>142.0</td>\n",
       "      <td>241.0</td>\n",
       "      <td>970.8100</td>\n",
       "      <td>2.0</td>\n",
       "      <td>1392.800000</td>\n",
       "      <td>90.0</td>\n",
       "    </tr>\n",
       "  </tbody>\n",
       "</table>\n",
       "</div>"
      ],
      "text/plain": [
       "            frequency_cal  recency_cal  T_cal  monetary_value_cal  \\\n",
       "CustomerID                                                          \n",
       "12347.0               4.0        238.0  277.0            519.7675   \n",
       "12348.0               2.0        110.0  268.0            297.2200   \n",
       "12352.0               3.0         34.0  206.0            101.5600   \n",
       "12356.0               1.0         80.0  235.0            481.4600   \n",
       "12359.0               3.0        142.0  241.0            970.8100   \n",
       "\n",
       "            frequency_holdout  monetary_value_holdout  duration_holdout  \n",
       "CustomerID                                                               \n",
       "12347.0                   2.0              759.570000              90.0  \n",
       "12348.0                   1.0              310.000000              90.0  \n",
       "12352.0                   3.0              314.743333              90.0  \n",
       "12356.0                   1.0               58.350000              90.0  \n",
       "12359.0                   2.0             1392.800000              90.0  "
      ]
     },
     "execution_count": 54,
     "metadata": {},
     "output_type": "execute_result"
    }
   ],
   "source": [
    "print(rfm_train_test.shape)\n",
    "rfm_train_test.head()"
   ]
  },
  {
   "cell_type": "markdown",
   "metadata": {},
   "source": [
    "### Modelling"
   ]
  },
  {
   "cell_type": "markdown",
   "metadata": {},
   "source": [
    "Now, we can use the RFM calibration data to train the models."
   ]
  },
  {
   "cell_type": "code",
   "execution_count": 55,
   "metadata": {
    "ExecuteTime": {
     "end_time": "2021-09-26T16:35:44.446720Z",
     "start_time": "2021-09-26T16:35:44.308210Z"
    }
   },
   "outputs": [
    {
     "data": {
      "text/plain": [
       "<lifetimes.BetaGeoFitter: fitted with 1965 subjects, a: 0.01, alpha: 45.42, b: 0.17, r: 1.00>"
      ]
     },
     "execution_count": 55,
     "metadata": {},
     "output_type": "execute_result"
    }
   ],
   "source": [
    "#Train the BG/NBD model\n",
    "bgf = BetaGeoFitter(penalizer_coef=0.1)\n",
    "bgf.fit(rfm_train_test['frequency_cal'], rfm_train_test['recency_cal'], rfm_train_test['T_cal'])"
   ]
  },
  {
   "cell_type": "markdown",
   "metadata": {},
   "source": [
    "To fit Gamma-Gamma model, we first need to make sure that the monetary value and frequency are not correlated as this is one of the basi assumptions of the model."
   ]
  },
  {
   "cell_type": "code",
   "execution_count": 56,
   "metadata": {
    "ExecuteTime": {
     "end_time": "2021-09-26T16:35:44.462392Z",
     "start_time": "2021-09-26T16:35:44.448427Z"
    }
   },
   "outputs": [
    {
     "data": {
      "text/html": [
       "<div>\n",
       "<style scoped>\n",
       "    .dataframe tbody tr th:only-of-type {\n",
       "        vertical-align: middle;\n",
       "    }\n",
       "\n",
       "    .dataframe tbody tr th {\n",
       "        vertical-align: top;\n",
       "    }\n",
       "\n",
       "    .dataframe thead th {\n",
       "        text-align: right;\n",
       "    }\n",
       "</style>\n",
       "<table border=\"1\" class=\"dataframe\">\n",
       "  <thead>\n",
       "    <tr style=\"text-align: right;\">\n",
       "      <th></th>\n",
       "      <th>monetary_value_cal</th>\n",
       "      <th>frequency_cal</th>\n",
       "    </tr>\n",
       "  </thead>\n",
       "  <tbody>\n",
       "    <tr>\n",
       "      <th>monetary_value_cal</th>\n",
       "      <td>1.00000</td>\n",
       "      <td>0.15412</td>\n",
       "    </tr>\n",
       "    <tr>\n",
       "      <th>frequency_cal</th>\n",
       "      <td>0.15412</td>\n",
       "      <td>1.00000</td>\n",
       "    </tr>\n",
       "  </tbody>\n",
       "</table>\n",
       "</div>"
      ],
      "text/plain": [
       "                    monetary_value_cal  frequency_cal\n",
       "monetary_value_cal             1.00000        0.15412\n",
       "frequency_cal                  0.15412        1.00000"
      ]
     },
     "execution_count": 56,
     "metadata": {},
     "output_type": "execute_result"
    }
   ],
   "source": [
    "#Train Gamma-Gamma\n",
    "rfm_train_test[['monetary_value_cal', 'frequency_cal']].corr()"
   ]
  },
  {
   "cell_type": "markdown",
   "metadata": {},
   "source": [
    "They are not, so we can continue with fitting"
   ]
  },
  {
   "cell_type": "code",
   "execution_count": 57,
   "metadata": {
    "ExecuteTime": {
     "end_time": "2021-09-26T16:35:44.541524Z",
     "start_time": "2021-09-26T16:35:44.464387Z"
    }
   },
   "outputs": [
    {
     "data": {
      "text/plain": [
       "<lifetimes.GammaGammaFitter: fitted with 1965 subjects, p: 1.30, q: 3.69, v: 693.76>"
      ]
     },
     "execution_count": 57,
     "metadata": {},
     "output_type": "execute_result"
    }
   ],
   "source": [
    "ggf = GammaGammaFitter(penalizer_coef = 0)\n",
    "ggf.fit(rfm_train_test['frequency_cal'],\n",
    "        rfm_train_test['monetary_value_cal'])"
   ]
  },
  {
   "cell_type": "markdown",
   "metadata": {},
   "source": [
    "### Prediction"
   ]
  },
  {
   "cell_type": "markdown",
   "metadata": {},
   "source": [
    "Prediction is done in three steps:\n",
    "1. Predict the expected number of transactions\n",
    "2. Predict the average order value\n",
    "3. Multiply number of transations by the average order value"
   ]
  },
  {
   "cell_type": "code",
   "execution_count": 58,
   "metadata": {
    "ExecuteTime": {
     "end_time": "2021-09-26T16:35:44.573274Z",
     "start_time": "2021-09-26T16:35:44.545472Z"
    }
   },
   "outputs": [],
   "source": [
    "#Predict the expected number of transactions in the next 89 days\n",
    "predicted_bgf = bgf.predict(89,\n",
    "                        rfm_train_test['frequency_cal'], \n",
    "                        rfm_train_test['recency_cal'], \n",
    "                        rfm_train_test['T_cal'])\n",
    "trans_pred = predicted_bgf.fillna(0)\n",
    "\n",
    "#Predict the average order value\n",
    "monetary_pred = ggf.conditional_expected_average_profit(rfm_train_test['frequency_cal'],\n",
    "                                        rfm_train_test['monetary_value_cal'])\n",
    "\n",
    "#Putting it all together\n",
    "sales_pred = trans_pred * monetary_pred"
   ]
  },
  {
   "cell_type": "markdown",
   "metadata": {},
   "source": [
    "### Evaluation"
   ]
  },
  {
   "cell_type": "code",
   "execution_count": 59,
   "metadata": {
    "ExecuteTime": {
     "end_time": "2021-09-26T16:35:44.588496Z",
     "start_time": "2021-09-26T16:35:44.574531Z"
    }
   },
   "outputs": [],
   "source": [
    "actual = rfm_train_test['monetary_value_holdout'] *  rfm_train_test['frequency_holdout']"
   ]
  },
  {
   "cell_type": "code",
   "execution_count": 60,
   "metadata": {
    "ExecuteTime": {
     "end_time": "2021-09-26T16:35:44.603659Z",
     "start_time": "2021-09-26T16:35:44.590491Z"
    }
   },
   "outputs": [],
   "source": [
    "def evaluate(actual, sales_prediction):\n",
    "    print(f\"Total Sales Actual: {np.round(actual.sum())}\")\n",
    "    print(f\"Total Sales Predicted: {np.round(sales_prediction.sum())}\")\n",
    "    print(f\"Individual R2 score: {r2_score(actual, sales_prediction)} \")\n",
    "    print(f\"Individual Mean Absolute Error: {mean_absolute_error(actual, sales_prediction)}\")\n",
    "    plt.scatter(sales_prediction, actual)\n",
    "    plt.xlabel('Prediction')\n",
    "    plt.ylabel('Actual')      \n",
    "    plt.show()"
   ]
  },
  {
   "cell_type": "code",
   "execution_count": 61,
   "metadata": {
    "ExecuteTime": {
     "end_time": "2021-09-26T16:35:44.758769Z",
     "start_time": "2021-09-26T16:35:44.605655Z"
    }
   },
   "outputs": [
    {
     "name": "stdout",
     "output_type": "stream",
     "text": [
      "Total Sales Actual: 1743233.0\n",
      "Total Sales Predicted: 1396632.0\n",
      "Individual R2 score: 0.6692546744417627 \n",
      "Individual Mean Absolute Error: 556.7287963875656\n"
     ]
    },
    {
     "data": {
      "image/png": "[encoded data removed]",
      "text/plain": [
       "<Figure size 720x504 with 1 Axes>"
      ]
     },
     "metadata": {
      "needs_background": "light"
     },
     "output_type": "display_data"
    }
   ],
   "source": [
    "evaluate(actual, sales_pred)"
   ]
  },
  {
   "cell_type": "markdown",
   "metadata": {},
   "source": [
    "It seems like the model does a fairly good job at predicting the customer's revenue for the next 3 months. Let's take a look if we can get similar performance from the Machine Learning approach."
   ]
  },
  {
   "cell_type": "markdown",
   "metadata": {},
   "source": [
    "## ML Approach"
   ]
  },
  {
   "cell_type": "markdown",
   "metadata": {},
   "source": [
    "This approach differs from statistical one, in a sense that it doesn't fit a distribution for latent parameters, but models the conditional expectations explicitly. I'm going to be using a small Deep Neural Network because it does quite a good job at implicit feature engineering and models the interaction effects quite nicely. I'm going to split my work into 3 parts:\n",
    "1. Feature engineering for train and test periods\n",
    "2. Modelling\n",
    "3. Evaluation"
   ]
  },
  {
   "cell_type": "markdown",
   "metadata": {},
   "source": [
    "### Feature Engineering\n",
    "The possibility to include additional features into the model besides the RFM is the greates advantage of this approach. However, it's also the main limitation as **your model is going to be only as good as your features**. So, make sure to spend a lot of time on this section, and experiment yourselve to find the best features.  "
   ]
  },
  {
   "cell_type": "code",
   "execution_count": 62,
   "metadata": {
    "ExecuteTime": {
     "end_time": "2021-09-26T16:35:44.774726Z",
     "start_time": "2021-09-26T16:35:44.760764Z"
    }
   },
   "outputs": [],
   "source": [
    "def get_features(data, feature_start, feature_end, target_start, target_end):\n",
    "    \"\"\"\n",
    "    Function that outputs the features and targets on the user-level.\n",
    "    Inputs:\n",
    "        * data - a dataframe with raw data\n",
    "        * feature_start - a string start date of feature period\n",
    "        * feature_end - a  string end date of feature period\n",
    "        * target_start - a  string start date of target period\n",
    "        * target_end - a  string end date of target period\n",
    "    \"\"\"\n",
    "    features_data = data.loc[(data.date >= feature_start) & (data.date <= feature_end), :]\n",
    "    print(f'Using data from {(pd.to_datetime(feature_end) - pd.to_datetime(feature_start)).days} days')\n",
    "    print(f'To predict {(pd.to_datetime(target_end) - pd.to_datetime(target_start)).days} days')\n",
    "    \n",
    "    #Transactions data features\n",
    "    total_rev = features_data.groupby('CustomerID')['Revenue'].sum().rename('total_revenue')\n",
    "    recency = (features_data.groupby('CustomerID')['date'].max() - features_data.groupby('CustomerID')['date'].min()).apply(lambda x: x.days).rename('recency')\n",
    "    frequency = features_data.groupby('CustomerID')['InvoiceNo'].count().rename('frequency')\n",
    "    t = features_data.groupby('CustomerID')['date'].min().apply(lambda x: (datetime(2011, 6, 11) - x).days).rename('t')\n",
    "    time_between = (t / frequency).rename('time_between')\n",
    "    avg_basket_value = (total_rev / frequency).rename('avg_basket_value')\n",
    "    avg_basket_size = (features_data.groupby('CustomerID')['Quantity'].sum() / frequency).rename('avg_basket_Size')\n",
    "    returns = features_data.loc[features_data['Revenue'] < 0, :].groupby('CustomerID')['InvoiceNo'].count().rename('num_returns')\n",
    "    hour = features_data.groupby('CustomerID')['hour'].median().rename('purchase_hour_med')\n",
    "    dow = features_data.groupby('CustomerID')['dayofweek'].median().rename('purchase_dow_med')\n",
    "    weekend =  features_data.groupby('CustomerID')['weekend'].mean().rename('purchase_weekend_prop')\n",
    "    train_data = pd.DataFrame(index = rfm_train_test.index)\n",
    "    train_data = train_data.join([total_rev, recency, frequency, t, time_between, avg_basket_value, avg_basket_size, returns, hour, dow, weekend])\n",
    "    train_data = train_data.fillna(0)\n",
    "    \n",
    "    #Target data\n",
    "    target_data = data.loc[(data.date >= target_start) & (data.date <= target_end), :]\n",
    "    target_quant = target_data.groupby(['CustomerID'])['date'].nunique()\n",
    "    target_rev = target_data.groupby(['CustomerID'])['Revenue'].sum().rename('target_rev')\n",
    "    train_data = train_data.join(target_rev).fillna(0)\n",
    "    \n",
    "    return train_data.iloc[:, :-1], train_data.iloc[:, -1]"
   ]
  },
  {
   "cell_type": "code",
   "execution_count": 63,
   "metadata": {
    "ExecuteTime": {
     "end_time": "2021-09-26T16:35:44.991284Z",
     "start_time": "2021-09-26T16:35:44.777718Z"
    }
   },
   "outputs": [
    {
     "name": "stdout",
     "output_type": "stream",
     "text": [
      "Using data from 161 days\n",
      "To predict 89 days\n"
     ]
    }
   ],
   "source": [
    "X_train, y_train = get_features(data, '2011-01-01', '2011-06-11', '2011-06-12', '2011-09-09')"
   ]
  },
  {
   "cell_type": "code",
   "execution_count": 64,
   "metadata": {
    "ExecuteTime": {
     "end_time": "2021-09-26T16:35:45.236876Z",
     "start_time": "2021-09-26T16:35:44.993558Z"
    }
   },
   "outputs": [
    {
     "name": "stdout",
     "output_type": "stream",
     "text": [
      "Using data from 161 days\n",
      "To predict 89 days\n"
     ]
    }
   ],
   "source": [
    "X_test, y_test = get_features(data, '2011-04-02', '2011-09-10', '2011-09-11', '2011-12-09')"
   ]
  },
  {
   "cell_type": "markdown",
   "metadata": {},
   "source": [
    "### Modelling\n",
    "Here, I'm going to use a Keras API to Tensorflow to build a simple DNN. Architecture here doesn't really matter because the problem is simple and small enough. However, if you have more data, make sure to fine tune the model. Start small, and see if the performance increases as the complexity increases."
   ]
  },
  {
   "cell_type": "code",
   "execution_count": 65,
   "metadata": {
    "ExecuteTime": {
     "end_time": "2021-09-26T16:35:45.251836Z",
     "start_time": "2021-09-26T16:35:45.238871Z"
    }
   },
   "outputs": [],
   "source": [
    "#DNN\n",
    "def build_model():\n",
    "    model = keras.Sequential([\n",
    "    layers.Dense(32, activation='relu', input_shape=[len(X_train.columns), ]),\n",
    "    layers.Dropout(0.3),\n",
    "    layers.Dense(32, activation='relu'),\n",
    "    layers.Dense(1)\n",
    "    ])\n",
    "\n",
    "    optimizer = tf.keras.optimizers.Adam(0.001)\n",
    "\n",
    "    model.compile(loss='mse',\n",
    "            optimizer=optimizer,\n",
    "            metrics=['mae', 'mse'])\n",
    "    \n",
    "    return model\n",
    "\n",
    "# The patience parameter is the amount of epochs to check for improvement\n",
    "early_stop = keras.callbacks.EarlyStopping(monitor='val_loss', patience=20)"
   ]
  },
  {
   "cell_type": "code",
   "execution_count": 68,
   "metadata": {
    "ExecuteTime": {
     "end_time": "2021-09-26T16:36:37.944947Z",
     "start_time": "2021-09-26T16:36:37.923968Z"
    }
   },
   "outputs": [
    {
     "data": {
      "text/html": [
       "<div>\n",
       "<style scoped>\n",
       "    .dataframe tbody tr th:only-of-type {\n",
       "        vertical-align: middle;\n",
       "    }\n",
       "\n",
       "    .dataframe tbody tr th {\n",
       "        vertical-align: top;\n",
       "    }\n",
       "\n",
       "    .dataframe thead th {\n",
       "        text-align: right;\n",
       "    }\n",
       "</style>\n",
       "<table border=\"1\" class=\"dataframe\">\n",
       "  <thead>\n",
       "    <tr style=\"text-align: right;\">\n",
       "      <th></th>\n",
       "      <th>total_revenue</th>\n",
       "      <th>recency</th>\n",
       "      <th>frequency</th>\n",
       "      <th>t</th>\n",
       "      <th>time_between</th>\n",
       "      <th>avg_basket_value</th>\n",
       "      <th>avg_basket_Size</th>\n",
       "      <th>num_returns</th>\n",
       "      <th>purchase_hour_med</th>\n",
       "      <th>purchase_dow_med</th>\n",
       "      <th>purchase_weekend_prop</th>\n",
       "    </tr>\n",
       "    <tr>\n",
       "      <th>CustomerID</th>\n",
       "      <th></th>\n",
       "      <th></th>\n",
       "      <th></th>\n",
       "      <th></th>\n",
       "      <th></th>\n",
       "      <th></th>\n",
       "      <th></th>\n",
       "      <th></th>\n",
       "      <th></th>\n",
       "      <th></th>\n",
       "      <th></th>\n",
       "    </tr>\n",
       "  </thead>\n",
       "  <tbody>\n",
       "    <tr>\n",
       "      <th>12347.0</th>\n",
       "      <td>1494.16</td>\n",
       "      <td>134.0</td>\n",
       "      <td>71.0</td>\n",
       "      <td>136.0</td>\n",
       "      <td>1.915493</td>\n",
       "      <td>21.044507</td>\n",
       "      <td>14.000000</td>\n",
       "      <td>0.0</td>\n",
       "      <td>13.0</td>\n",
       "      <td>3.0</td>\n",
       "      <td>0.000000</td>\n",
       "    </tr>\n",
       "    <tr>\n",
       "      <th>12348.0</th>\n",
       "      <td>594.44</td>\n",
       "      <td>70.0</td>\n",
       "      <td>11.0</td>\n",
       "      <td>137.0</td>\n",
       "      <td>12.454545</td>\n",
       "      <td>54.040000</td>\n",
       "      <td>79.090909</td>\n",
       "      <td>0.0</td>\n",
       "      <td>10.0</td>\n",
       "      <td>1.0</td>\n",
       "      <td>0.000000</td>\n",
       "    </tr>\n",
       "    <tr>\n",
       "      <th>12352.0</th>\n",
       "      <td>601.18</td>\n",
       "      <td>34.0</td>\n",
       "      <td>48.0</td>\n",
       "      <td>115.0</td>\n",
       "      <td>2.395833</td>\n",
       "      <td>12.524583</td>\n",
       "      <td>3.916667</td>\n",
       "      <td>10.0</td>\n",
       "      <td>15.0</td>\n",
       "      <td>1.0</td>\n",
       "      <td>0.000000</td>\n",
       "    </tr>\n",
       "    <tr>\n",
       "      <th>12356.0</th>\n",
       "      <td>2753.08</td>\n",
       "      <td>80.0</td>\n",
       "      <td>57.0</td>\n",
       "      <td>144.0</td>\n",
       "      <td>2.526316</td>\n",
       "      <td>48.299649</td>\n",
       "      <td>27.824561</td>\n",
       "      <td>0.0</td>\n",
       "      <td>9.0</td>\n",
       "      <td>1.0</td>\n",
       "      <td>0.000000</td>\n",
       "    </tr>\n",
       "    <tr>\n",
       "      <th>12359.0</th>\n",
       "      <td>3459.93</td>\n",
       "      <td>142.0</td>\n",
       "      <td>145.0</td>\n",
       "      <td>150.0</td>\n",
       "      <td>1.034483</td>\n",
       "      <td>23.861586</td>\n",
       "      <td>6.627586</td>\n",
       "      <td>2.0</td>\n",
       "      <td>14.0</td>\n",
       "      <td>0.0</td>\n",
       "      <td>0.000000</td>\n",
       "    </tr>\n",
       "    <tr>\n",
       "      <th>...</th>\n",
       "      <td>...</td>\n",
       "      <td>...</td>\n",
       "      <td>...</td>\n",
       "      <td>...</td>\n",
       "      <td>...</td>\n",
       "      <td>...</td>\n",
       "      <td>...</td>\n",
       "      <td>...</td>\n",
       "      <td>...</td>\n",
       "      <td>...</td>\n",
       "      <td>...</td>\n",
       "    </tr>\n",
       "    <tr>\n",
       "      <th>18260.0</th>\n",
       "      <td>1937.17</td>\n",
       "      <td>134.0</td>\n",
       "      <td>106.0</td>\n",
       "      <td>153.0</td>\n",
       "      <td>1.443396</td>\n",
       "      <td>18.275189</td>\n",
       "      <td>11.641509</td>\n",
       "      <td>6.0</td>\n",
       "      <td>10.0</td>\n",
       "      <td>2.0</td>\n",
       "      <td>0.245283</td>\n",
       "    </tr>\n",
       "    <tr>\n",
       "      <th>18263.0</th>\n",
       "      <td>307.60</td>\n",
       "      <td>0.0</td>\n",
       "      <td>15.0</td>\n",
       "      <td>71.0</td>\n",
       "      <td>4.733333</td>\n",
       "      <td>20.506667</td>\n",
       "      <td>21.866667</td>\n",
       "      <td>0.0</td>\n",
       "      <td>11.0</td>\n",
       "      <td>4.0</td>\n",
       "      <td>0.000000</td>\n",
       "    </tr>\n",
       "    <tr>\n",
       "      <th>18272.0</th>\n",
       "      <td>966.74</td>\n",
       "      <td>34.0</td>\n",
       "      <td>59.0</td>\n",
       "      <td>65.0</td>\n",
       "      <td>1.101695</td>\n",
       "      <td>16.385424</td>\n",
       "      <td>13.254237</td>\n",
       "      <td>4.0</td>\n",
       "      <td>9.0</td>\n",
       "      <td>3.0</td>\n",
       "      <td>0.000000</td>\n",
       "    </tr>\n",
       "    <tr>\n",
       "      <th>18273.0</th>\n",
       "      <td>51.00</td>\n",
       "      <td>0.0</td>\n",
       "      <td>1.0</td>\n",
       "      <td>76.0</td>\n",
       "      <td>76.000000</td>\n",
       "      <td>51.000000</td>\n",
       "      <td>20.000000</td>\n",
       "      <td>0.0</td>\n",
       "      <td>11.0</td>\n",
       "      <td>6.0</td>\n",
       "      <td>1.000000</td>\n",
       "    </tr>\n",
       "    <tr>\n",
       "      <th>18283.0</th>\n",
       "      <td>535.05</td>\n",
       "      <td>137.0</td>\n",
       "      <td>232.0</td>\n",
       "      <td>156.0</td>\n",
       "      <td>0.672414</td>\n",
       "      <td>2.306250</td>\n",
       "      <td>1.448276</td>\n",
       "      <td>0.0</td>\n",
       "      <td>14.0</td>\n",
       "      <td>3.0</td>\n",
       "      <td>0.193966</td>\n",
       "    </tr>\n",
       "  </tbody>\n",
       "</table>\n",
       "<p>1965 rows × 11 columns</p>\n",
       "</div>"
      ],
      "text/plain": [
       "            total_revenue  recency  frequency      t  time_between  \\\n",
       "CustomerID                                                           \n",
       "12347.0           1494.16    134.0       71.0  136.0      1.915493   \n",
       "12348.0            594.44     70.0       11.0  137.0     12.454545   \n",
       "12352.0            601.18     34.0       48.0  115.0      2.395833   \n",
       "12356.0           2753.08     80.0       57.0  144.0      2.526316   \n",
       "12359.0           3459.93    142.0      145.0  150.0      1.034483   \n",
       "...                   ...      ...        ...    ...           ...   \n",
       "18260.0           1937.17    134.0      106.0  153.0      1.443396   \n",
       "18263.0            307.60      0.0       15.0   71.0      4.733333   \n",
       "18272.0            966.74     34.0       59.0   65.0      1.101695   \n",
       "18273.0             51.00      0.0        1.0   76.0     76.000000   \n",
       "18283.0            535.05    137.0      232.0  156.0      0.672414   \n",
       "\n",
       "            avg_basket_value  avg_basket_Size  num_returns  purchase_hour_med  \\\n",
       "CustomerID                                                                      \n",
       "12347.0            21.044507        14.000000          0.0               13.0   \n",
       "12348.0            54.040000        79.090909          0.0               10.0   \n",
       "12352.0            12.524583         3.916667         10.0               15.0   \n",
       "12356.0            48.299649        27.824561          0.0                9.0   \n",
       "12359.0            23.861586         6.627586          2.0               14.0   \n",
       "...                      ...              ...          ...                ...   \n",
       "18260.0            18.275189        11.641509          6.0               10.0   \n",
       "18263.0            20.506667        21.866667          0.0               11.0   \n",
       "18272.0            16.385424        13.254237          4.0                9.0   \n",
       "18273.0            51.000000        20.000000          0.0               11.0   \n",
       "18283.0             2.306250         1.448276          0.0               14.0   \n",
       "\n",
       "            purchase_dow_med  purchase_weekend_prop  \n",
       "CustomerID                                           \n",
       "12347.0                  3.0               0.000000  \n",
       "12348.0                  1.0               0.000000  \n",
       "12352.0                  1.0               0.000000  \n",
       "12356.0                  1.0               0.000000  \n",
       "12359.0                  0.0               0.000000  \n",
       "...                      ...                    ...  \n",
       "18260.0                  2.0               0.245283  \n",
       "18263.0                  4.0               0.000000  \n",
       "18272.0                  3.0               0.000000  \n",
       "18273.0                  6.0               1.000000  \n",
       "18283.0                  3.0               0.193966  \n",
       "\n",
       "[1965 rows x 11 columns]"
      ]
     },
     "execution_count": 68,
     "metadata": {},
     "output_type": "execute_result"
    }
   ],
   "source": [
    "X_train"
   ]
  },
  {
   "cell_type": "code",
   "execution_count": 77,
   "metadata": {
    "ExecuteTime": {
     "end_time": "2021-09-26T16:44:40.000314Z",
     "start_time": "2021-09-26T16:44:38.629427Z"
    }
   },
   "outputs": [
    {
     "name": "stdout",
     "output_type": "stream",
     "text": [
      "\n",
      "Epoch: 0, loss:6693400.0000,  mae:705.3986,  mse:6693400.0000,  val_loss:7254143.0000,  val_mae:728.4638,  val_mse:7254143.0000,  \n",
      "....."
     ]
    }
   ],
   "source": [
    "model = build_model()\n",
    "\n",
    "early_history = model.fit(np.array(X_train), np.array(y_train), \n",
    "                    epochs=EPOCHS, validation_split = 0.2, verbose=0, \n",
    "                    callbacks=[early_stop, tfdocs.modeling.EpochDots()])"
   ]
  },
  {
   "cell_type": "markdown",
   "metadata": {},
   "source": [
    "## Evaluation"
   ]
  },
  {
   "cell_type": "markdown",
   "metadata": {},
   "source": [
    "Let's see how well the model can predict the 3 next 3 months which it has never seen before. We're going to use data from the most recent period (X_test) to make sure that our forecast is as accurate as possible."
   ]
  },
  {
   "cell_type": "code",
   "execution_count": 78,
   "metadata": {
    "ExecuteTime": {
     "end_time": "2021-09-26T16:46:10.285196Z",
     "start_time": "2021-09-26T16:46:09.923791Z"
    }
   },
   "outputs": [],
   "source": [
    "#Predicting\n",
    "dnn_preds = model.predict(X_test).ravel()"
   ]
  },
  {
   "cell_type": "code",
   "execution_count": 79,
   "metadata": {
    "ExecuteTime": {
     "end_time": "2021-09-26T16:46:16.023996Z",
     "start_time": "2021-09-26T16:46:15.547325Z"
    }
   },
   "outputs": [
    {
     "name": "stdout",
     "output_type": "stream",
     "text": [
      "Total Sales Actual: 2276520.0\n",
      "Total Sales Predicted: 1905985.0\n",
      "Individual R2 score: 0.6216740109784407 \n",
      "Individual Mean Absolute Error: 770.7951855321569\n"
     ]
    },
    {
     "data": {
      "image/png": "[encoded data removed]",
      "text/plain": [
       "<Figure size 720x504 with 1 Axes>"
      ]
     },
     "metadata": {
      "needs_background": "light"
     },
     "output_type": "display_data"
    }
   ],
   "source": [
    "#Putting the actual and predictions into the same datarame for later comparison\n",
    "compare_df = pd.DataFrame(index=X_test.index)\n",
    "compare_df['dnn_preds'] = dnn_preds\n",
    "compare_df = compare_df.join(sales_pred.rename('stat_pred')).fillna(0)\n",
    "compare_df['actual'] = y_test\n",
    "\n",
    "evaluate(compare_df['actual'], compare_df['dnn_preds'])"
   ]
  },
  {
   "cell_type": "markdown",
   "metadata": {},
   "source": [
    "We can see that the model is fairly accurate with mean absolute error comparable to the BG/NBD. Total predicted sales are a bit off, but this is largely due to the significant outliers. Let's now attempt to compare the two models"
   ]
  },
  {
   "cell_type": "markdown",
   "metadata": {},
   "source": [
    "## Comparison"
   ]
  },
  {
   "cell_type": "markdown",
   "metadata": {},
   "source": [
    "I'll attempt to compare the performance of DNN and BG/NBD models by looking at:\n",
    "1. How well do they fit the non-outlier distribution\n",
    "2. How much revenue do the top 20% of CLV customers generate\n",
    "\n",
    "It should be noted that the datasets to train the models do differ a bit. E.g. some customer IDs had to be dropped because of their returns so the expected value was replaced by 0 in BG/NBD. Still, I'm not looking at the prediction on the user level but at the aggregate so this should not affect the evaluation. "
   ]
  },
  {
   "cell_type": "code",
   "execution_count": 80,
   "metadata": {
    "ExecuteTime": {
     "end_time": "2021-09-26T16:46:22.459187Z",
     "start_time": "2021-09-26T16:46:21.498322Z"
    }
   },
   "outputs": [
    {
     "data": {
      "image/png": "[encoded data removed]",
      "text/plain": [
       "<Figure size 720x504 with 1 Axes>"
      ]
     },
     "metadata": {
      "needs_background": "light"
     },
     "output_type": "display_data"
    }
   ],
   "source": [
    "#First 98% of data\n",
    "no_out = compare_df.loc[(compare_df['actual'] <= np.quantile(compare_df['actual'], 0.985)), :]\n",
    "\n",
    "sns.distplot(no_out['actual'])\n",
    "sns.distplot(no_out['dnn_preds'])\n",
    "plt.title('Actual vs DNN Predictions')\n",
    "plt.show()"
   ]
  },
  {
   "cell_type": "code",
   "execution_count": 81,
   "metadata": {
    "ExecuteTime": {
     "end_time": "2021-09-26T16:46:27.157655Z",
     "start_time": "2021-09-26T16:46:26.314475Z"
    }
   },
   "outputs": [
    {
     "data": {
      "image/png": "[encoded data removed]",
      "text/plain": [
       "<Figure size 720x504 with 1 Axes>"
      ]
     },
     "metadata": {
      "needs_background": "light"
     },
     "output_type": "display_data"
    }
   ],
   "source": [
    "sns.distplot(no_out['actual'])\n",
    "sns.distplot(no_out['stat_pred'])\n",
    "plt.title('Actual vs BG/NBD Predictions')\n",
    "plt.show()"
   ]
  },
  {
   "cell_type": "markdown",
   "metadata": {},
   "source": [
    "It looks like both models correctly model the revenue as heavily skewed with long tail. Nevertheless, DNN seems to better fit the data as it doesn't have this second spike. Let's now look at the revenue of top 20%."
   ]
  },
  {
   "cell_type": "code",
   "execution_count": 82,
   "metadata": {
    "ExecuteTime": {
     "end_time": "2021-09-26T16:58:05.099184Z",
     "start_time": "2021-09-26T16:58:04.983850Z"
    }
   },
   "outputs": [
    {
     "name": "stdout",
     "output_type": "stream",
     "text": [
      "Selecting the first 393 users\n",
      "Top 20% selected by DNN have generated 1494676.0\n",
      "Top 20% selected by BG/NBD and Gamma Gamma have generated 1549295.0\n",
      "Thats -54619.0 of marginal revenue\n"
     ]
    }
   ],
   "source": [
    "top_n = int(np.round(compare_df.shape[0] * 0.2))\n",
    "print(f'Selecting the first {top_n} users')\n",
    "\n",
    "#Selecting IDs\n",
    "dnn_ids = compare_df['dnn_preds'].sort_values(ascending=False).index[:top_n].values\n",
    "stat_ids = compare_df['stat_pred'].sort_values(ascending=False).index[:top_n].values\n",
    "\n",
    "#Filtering the data\n",
    "eval_subset = data.loc[data.date >= '2011-09-10', :]\n",
    "\n",
    "#Sums\n",
    "dnn_rev = eval_subset.loc[eval_subset.CustomerID.isin(dnn_ids), 'Revenue'].sum() \n",
    "stat_rev = eval_subset.loc[eval_subset.CustomerID.isin(stat_ids), 'Revenue'].sum()\n",
    "\n",
    "\n",
    "print(f'Top 20% selected by DNN have generated {np.round(dnn_rev)}')\n",
    "print(f'Top 20% selected by BG/NBD and Gamma Gamma have generated {np.round(stat_rev)}')\n",
    "print(f'Thats {np.round(dnn_rev - stat_rev)} of marginal revenue')"
   ]
  },
  {
   "cell_type": "markdown",
   "metadata": {},
   "source": [
    "The difference is only 6,134 which is quite insignificant. Hence, both methods are able to effectively pick the top 20% of most valuable customers which is not suprising, given that we've used only the transactions data in our DNN model. What about the first 10%?"
   ]
  },
  {
   "cell_type": "code",
   "execution_count": 83,
   "metadata": {
    "ExecuteTime": {
     "end_time": "2021-09-26T17:01:21.492169Z",
     "start_time": "2021-09-26T17:01:21.400250Z"
    }
   },
   "outputs": [
    {
     "name": "stdout",
     "output_type": "stream",
     "text": [
      "Selecting the first 196 users\n",
      "Top 20% selected by DNN have generated 1212679.0\n",
      "Top 20% selected by BG/NBD and Gamma Gamma have generated 1235621.0\n",
      "Thats -22941.0 of marginal revenue\n"
     ]
    }
   ],
   "source": [
    "top_n = int(np.round(compare_df.shape[0] * 0.1))\n",
    "print(f'Selecting the first {top_n} users')\n",
    "\n",
    "#Selecting IDs\n",
    "dnn_ids = compare_df['dnn_preds'].sort_values(ascending=False).index[:top_n].values\n",
    "stat_ids = compare_df['stat_pred'].sort_values(ascending=False).index[:top_n].values\n",
    "\n",
    "#Filtering the data\n",
    "eval_subset = data.loc[data.date >= '2011-09-10', :]\n",
    "\n",
    "#Sums\n",
    "dnn_rev = eval_subset.loc[eval_subset.CustomerID.isin(dnn_ids), 'Revenue'].sum() \n",
    "stat_rev = eval_subset.loc[eval_subset.CustomerID.isin(stat_ids), 'Revenue'].sum()\n",
    "\n",
    "\n",
    "print(f'Top 20% selected by DNN have generated {np.round(dnn_rev)}')\n",
    "print(f'Top 20% selected by BG/NBD and Gamma Gamma have generated {np.round(stat_rev)}')\n",
    "print(f'Thats {np.round(dnn_rev - stat_rev)} of marginal revenue')"
   ]
  },
  {
   "cell_type": "markdown",
   "metadata": {},
   "source": [
    "With the first 10%, the DNN model is actually worse but also by only a small percentage (1.3%). Hence, the conclusion from this experiment and comparison is - **Given only the transactions data, both DNN's performance is similar to the BG/NBD + Gamma-Gamma approach**. "
   ]
  }
 ],
 "metadata": {
  "kernelspec": {
   "display_name": "Python 3",
   "language": "python",
   "name": "python3"
  },
  "language_info": {
   "codemirror_mode": {
    "name": "ipython",
    "version": 3
   },
   "file_extension": ".py",
   "mimetype": "text/x-python",
   "name": "python",
   "nbconvert_exporter": "python",
   "pygments_lexer": "ipython3",
   "version": "3.8.5"
  },
  "toc": {
   "base_numbering": 1,
   "nav_menu": {},
   "number_sections": true,
   "sideBar": true,
   "skip_h1_title": false,
   "title_cell": "Table of Contents",
   "title_sidebar": "Contents",
   "toc_cell": false,
   "toc_position": {},
   "toc_section_display": true,
   "toc_window_display": false
  }
 },
 "nbformat": 4,
 "nbformat_minor": 2
}
